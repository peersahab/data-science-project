{
 "cells": [
  {
   "cell_type": "markdown",
   "id": "dfd1e29f443cdc9f",
   "metadata": {},
   "source": [
    "# Forecasting Energy Availability from Renewable Sources Using Weather Data\n",
    "\n",
    "### 1. Aashik Sharif Basheer Ahamed - 011870531\n",
    "### 2. Sheheryar Ahmad Pirzada - 011869749"
   ]
  },
  {
   "cell_type": "code",
   "id": "cb1c8c77",
   "metadata": {
    "ExecuteTime": {
     "end_time": "2024-10-12T05:10:49.808037Z",
     "start_time": "2024-10-12T05:10:49.251569Z"
    }
   },
   "source": [
    "import os\n",
    "import numpy as np\n",
    "import pandas as pd\n",
    "import matplotlib.pyplot as plt\n",
    "\n",
    "# Suppress warnings to make output cleaner\n",
    "import warnings\n",
    "warnings.filterwarnings(\"ignore\")"
   ],
   "outputs": [],
   "execution_count": 2
  },
  {
   "cell_type": "code",
   "id": "d8c76b2c",
   "metadata": {
    "ExecuteTime": {
     "end_time": "2024-10-12T05:10:50.875737Z",
     "start_time": "2024-10-12T05:10:50.852987Z"
    }
   },
   "source": [
    "path = './data'\n",
    "\n",
    "# store DataFrames\n",
    "dataframes = []\n",
    "\n",
    "# Iterate through each file in the folder\n",
    "for filename in os.listdir(path):\n",
    "    if filename.endswith('.csv'):\n",
    "        # Construct the full path to the CSV file\n",
    "        file_path = os.path.join(path, filename)\n",
    "\n",
    "        # Read the CSV file into a DataFrame and append to the list\n",
    "        frame = pd.read_csv(file_path)\n",
    "        dataframes.append(frame)\n",
    "# Concatenate all DataFrames into a single DataFrame\n",
    "merged_dataframes = pd.concat(dataframes, ignore_index=False)\n",
    "merged_dataframes.info()"
   ],
   "outputs": [
    {
     "name": "stdout",
     "output_type": "stream",
     "text": [
      "<class 'pandas.core.frame.DataFrame'>\n",
      "Index: 1826 entries, 0 to 911\n",
      "Data columns (total 33 columns):\n",
      " #   Column            Non-Null Count  Dtype  \n",
      "---  ------            --------------  -----  \n",
      " 0   name              1826 non-null   object \n",
      " 1   datetime          1826 non-null   object \n",
      " 2   tempmax           1826 non-null   float64\n",
      " 3   tempmin           1826 non-null   float64\n",
      " 4   temp              1826 non-null   float64\n",
      " 5   feelslikemax      1826 non-null   float64\n",
      " 6   feelslikemin      1826 non-null   float64\n",
      " 7   feelslike         1826 non-null   float64\n",
      " 8   dew               1826 non-null   float64\n",
      " 9   humidity          1826 non-null   float64\n",
      " 10  precip            1826 non-null   float64\n",
      " 11  precipprob        1826 non-null   int64  \n",
      " 12  precipcover       1826 non-null   float64\n",
      " 13  preciptype        939 non-null    object \n",
      " 14  snow              1826 non-null   float64\n",
      " 15  snowdepth         1826 non-null   float64\n",
      " 16  windgust          949 non-null    float64\n",
      " 17  windspeed         1826 non-null   float64\n",
      " 18  winddir           1826 non-null   float64\n",
      " 19  sealevelpressure  1826 non-null   float64\n",
      " 20  cloudcover        1826 non-null   float64\n",
      " 21  visibility        1826 non-null   float64\n",
      " 22  solarradiation    1826 non-null   float64\n",
      " 23  solarenergy       1826 non-null   float64\n",
      " 24  uvindex           1826 non-null   int64  \n",
      " 25  severerisk        0 non-null      float64\n",
      " 26  sunrise           1826 non-null   object \n",
      " 27  sunset            1826 non-null   object \n",
      " 28  moonphase         1826 non-null   float64\n",
      " 29  conditions        1826 non-null   object \n",
      " 30  description       1826 non-null   object \n",
      " 31  icon              1826 non-null   object \n",
      " 32  stations          1826 non-null   object \n",
      "dtypes: float64(22), int64(2), object(9)\n",
      "memory usage: 485.0+ KB\n"
     ]
    }
   ],
   "execution_count": 3
  },
  {
   "metadata": {},
   "cell_type": "code",
   "outputs": [],
   "execution_count": null,
   "source": "",
   "id": "ae20ba32bf16403b"
  }
 ],
 "metadata": {
  "kernelspec": {
   "display_name": "Python 3",
   "language": "python",
   "name": "python3"
  },
  "language_info": {
   "codemirror_mode": {
    "name": "ipython",
    "version": 3
   },
   "file_extension": ".py",
   "mimetype": "text/x-python",
   "name": "python",
   "nbconvert_exporter": "python",
   "pygments_lexer": "ipython3",
   "version": "3.12.6"
  }
 },
 "nbformat": 4,
 "nbformat_minor": 5
}
